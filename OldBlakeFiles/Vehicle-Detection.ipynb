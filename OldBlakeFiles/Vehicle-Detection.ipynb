{
 "cells": [
  {
   "cell_type": "markdown",
   "metadata": {},
   "source": [
    "# Vehicle Detection  \n",
    "## Read images  \n",
    "## Explore parameters\n",
    "## Train model with selected paramters\n",
    "## Demo sliding window search\n",
    "## Process video"
   ]
  },
  {
   "cell_type": "code",
   "execution_count": null,
   "metadata": {
    "collapsed": true
   },
   "outputs": [],
   "source": [
    "## Read images"
   ]
  },
  {
   "cell_type": "code",
   "execution_count": 1,
   "metadata": {
    "collapsed": false
   },
   "outputs": [
    {
     "name": "stdout",
     "output_type": "stream",
     "text": [
      "Hello\n"
     ]
    }
   ],
   "source": [
    "img_path_root = '/Users/blakejacquot/Desktop/temp/training_images'\n",
    "\n",
    "# Read in \n",
    "#Load car and not car data from files provided in the resources. Not using Udacity data\n",
    "# Data exploration\n",
    "cars = []\n",
    "notcars = []\n",
    "\n",
    "#Extract not car images\n",
    "\n",
    "car_paths = ['vehicles/GTI_Far', 'vehicles/GTI_Left', 'vehicles/GTI_Right', 'vehicles/GTI_MiddleClose', 'vehicles/GTI_KITTI_extracted']        \n",
    "for path in car_paths:\n",
    "    path_new = os.path.join(path,\"*.png\")\n",
    "    for infile in glob.glob(path_new):\n",
    "            cars.append(infile)"
   ]
  },
  {
   "cell_type": "code",
   "execution_count": null,
   "metadata": {
    "collapsed": true
   },
   "outputs": [],
   "source": []
  }
 ],
 "metadata": {
  "anaconda-cloud": {},
  "kernelspec": {
   "display_name": "Python [default]",
   "language": "python",
   "name": "python3"
  },
  "language_info": {
   "codemirror_mode": {
    "name": "ipython",
    "version": 3
   },
   "file_extension": ".py",
   "mimetype": "text/x-python",
   "name": "python",
   "nbconvert_exporter": "python",
   "pygments_lexer": "ipython3",
   "version": "3.5.2"
  }
 },
 "nbformat": 4,
 "nbformat_minor": 1
}
